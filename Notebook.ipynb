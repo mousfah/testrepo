{
 "cells": [
  {
   "cell_type": "markdown",
   "id": "2daabc3e-00ae-4b8b-b144-1579ce9aa4b7",
   "metadata": {},
   "source": [
    "# Data science tools and Ecosystem"
   ]
  },
  {
   "cell_type": "markdown",
   "id": "47b133d5-464d-4b52-b942-c3c639a26b25",
   "metadata": {},
   "source": [
    "# Some of the popular languages that Data are used:\n",
    "1. Python\n",
    "2. R\n",
    "3. SQL\n",
    "4. java\n",
    "5. Scala\n",
    "6. Julia\n",
    "7. SAS\n",
    "8. MATLAB"
   ]
  },
  {
   "cell_type": "markdown",
   "id": "a5bc8c8a-5564-446f-9829-b6e63a924487",
   "metadata": {},
   "source": [
    "# Data science tools\n",
    "1. Anaconda\n",
    "2. Jupyter Notebooks\n",
    "3. R studio\n",
    "4. Spyder"
   ]
  },
  {
   "cell_type": "markdown",
   "id": "87053e43-baea-48aa-beb9-554577e21f33",
   "metadata": {},
   "source": [
    "# Below a few examples of evaluating arithemetic expressions in python \n",
    "Addition (+): The addition of two numbers a and b is represented a+b."
   ]
  },
  {
   "cell_type": "code",
   "execution_count": 5,
   "id": "c1eec98d-d220-4fb4-909d-d8db2228d5a1",
   "metadata": {},
   "outputs": [
    {
     "name": "stdout",
     "output_type": "stream",
     "text": [
      "Addition:  8\n"
     ]
    }
   ],
   "source": [
    "print(\"Addition: \", 5 + 3)"
   ]
  },
  {
   "cell_type": "code",
   "execution_count": 6,
   "id": "a582a9fa-b54a-4949-a6aa-773ed908876e",
   "metadata": {},
   "outputs": [
    {
     "name": "stdout",
     "output_type": "stream",
     "text": [
      "Subtraction:  3\n"
     ]
    }
   ],
   "source": [
    "print(\"Subtraction: \", 10 - 7)"
   ]
  },
  {
   "cell_type": "markdown",
   "id": "d2829fcf-7208-4fcc-bf65-f7992476be40",
   "metadata": {},
   "source": [
    "# Objectives\n",
    "\n",
    "1. Add comments to code cells\n",
    "2. Create markdown cells\n",
    "3. add ordered and unordered list to markdown cells\n"
   ]
  },
  {
   "cell_type": "markdown",
   "id": "274be043-c6d1-4c96-b9a6-6f4a1bb51b7f",
   "metadata": {},
   "source": [
    "**Author(s) :** Moustapha Hassan"
   ]
  },
  {
   "cell_type": "code",
   "execution_count": null,
   "id": "1ff97d88-5bc5-4162-abd2-3982eab26caf",
   "metadata": {},
   "outputs": [],
   "source": []
  }
 ],
 "metadata": {
  "kernelspec": {
   "display_name": "Python 3 (ipykernel)",
   "language": "python",
   "name": "python3"
  },
  "language_info": {
   "codemirror_mode": {
    "name": "ipython",
    "version": 3
   },
   "file_extension": ".py",
   "mimetype": "text/x-python",
   "name": "python",
   "nbconvert_exporter": "python",
   "pygments_lexer": "ipython3",
   "version": "3.11.7"
  }
 },
 "nbformat": 4,
 "nbformat_minor": 5
}
